{
 "cells": [
  {
   "cell_type": "markdown",
   "metadata": {},
   "source": [
    "## P1: The stroop effect experiment\n",
    "\n",
    "The stroop effect is a phenomenon observed in the 1930s by J. Ridley Stroop. It is a a demonstration of interference in the reaction time of a task. He observed that naming the font color of a printed word is an easier and quicker task if word meaning and font color are not incongruent. If both are printed in red, the average time to say \"RED\" in response to the word 'RED' is greater than the time to say \"RED\" in response to the word 'BLUE'. (*from [wikipedia](https://en.wikipedia.org/wiki/Stroop_effect)*)\n",
    "\n",
    "\n",
    "![stroop effect](img/stroop_effect.gif)\n",
    "\n",
    "\n",
    "More information on the stroop effect [here](https://faculty.washington.edu/chudler/words.html#seffect)"
   ]
  },
  {
   "cell_type": "markdown",
   "metadata": {},
   "source": [
    "## The project\n",
    "\n",
    "This is the project 1 of the udacity's data analyst nanodegree. The objective is to apply descriptive and inferential statistics knowlegde to assess the stroop effect experiment on 24 subjects. Therefore, using inferential statistics concepts, such as t-tests and hypothesis testing, will be possible to comprove this effect on the given dataset."
   ]
  },
  {
   "cell_type": "markdown",
   "metadata": {},
   "source": [
    "## The experiment\n",
    "\n",
    "explicar"
   ]
  },
  {
   "cell_type": "markdown",
   "metadata": {},
   "source": [
    "## Questions_"
   ]
  },
  {
   "cell_type": "markdown",
   "metadata": {},
   "source": [
    "#### 1. What is the independent variable in the experiment? What is the dependent variable?"
   ]
  },
  {
   "cell_type": "markdown",
   "metadata": {
    "collapsed": true
   },
   "source": [
    "* _The independent variable in this experiment is the test condition represented by the list. It was used two types of lists: congruents and incongruents. The congruents are lists with the word and color matching, like the word 'RED' with the ink 'RED', while the incongruents has mismatch. For example the word 'RED' with the ink 'BLUE'_\n",
    "* _The dependent variable is the time in seconds that the subject spentto read the list._"
   ]
  },
  {
   "cell_type": "markdown",
   "metadata": {},
   "source": [
    "#### 2. What could be the null and alternative hypothesis for this experiment? What statistical test will you use?"
   ]
  },
  {
   "cell_type": "markdown",
   "metadata": {
    "collapsed": true
   },
   "source": [
    "* **Hypothesis testing**\n",
    "\n",
    "falar do one tailed test\n",
    "\n",
    "    * _The null hypothesis (H_0) is that the type of list (congruent of incongruent) does not intefere the reaction time of the task. Mu_c = Mu_i"
   ]
  },
  {
   "cell_type": "markdown",
   "metadata": {},
   "source": [
    "#### 3. Report some descriptive statistics about the dataset. At least one measure of central tendency and one measure of variability"
   ]
  },
  {
   "cell_type": "markdown",
   "metadata": {
    "collapsed": true
   },
   "source": [
    "*answer*\n",
    "\n",
    "* dataset (com código pandas)\n",
    "* descriptive\n",
    "* inferential"
   ]
  },
  {
   "cell_type": "markdown",
   "metadata": {},
   "source": [
    "#### 4. Show one or two visualizations that shows the distribution of the data. Show your toughts about it"
   ]
  },
  {
   "cell_type": "markdown",
   "metadata": {
    "collapsed": true
   },
   "source": [
    "histograma\n",
    "\n",
    "scatterpot"
   ]
  },
  {
   "cell_type": "markdown",
   "metadata": {},
   "source": [
    "#### 5. Present your statistic test results\n",
    "\n",
    "Agora desempenhe o teste estatístico e reporte seus resultados. Qual seu nível de confiança e o valor estatístico crítico? Você rejeitou a hipótese nula ou falhou ao tentar rejeitá-la? Encontre uma conclusão em relação ao experimento da tarefa. Os resultados estão de acordo com suas expectativas?"
   ]
  },
  {
   "cell_type": "markdown",
   "metadata": {
    "collapsed": true
   },
   "source": [
    "*answer*"
   ]
  },
  {
   "cell_type": "markdown",
   "metadata": {},
   "source": [
    "#### 6. What can explain this effect?\n",
    "\n",
    "Opcional: O que você acha que é responsável pelo efeito observado? Consegue pensar em uma alternativa ou tarefa similar que resultaria em um efeito parecido? (dirigir e mecher no celular, assistir tv enquanto estuda) Alguma pesquisa em relação ao problema pode ser útil para pensar nessas duas questões!"
   ]
  },
  {
   "cell_type": "markdown",
   "metadata": {
    "collapsed": true
   },
   "source": [
    "*answer*"
   ]
  },
  {
   "cell_type": "markdown",
   "metadata": {},
   "source": [
    "##### how to insert image\n",
    "![alt text](campus_party_internet.png \"Title\")\n",
    "\n",
    "##### how to insert link\n",
    "[Link to Abstract and Paper](http://www.ncbi.nlm.nih.gov/pubmed/15676839)  "
   ]
  },
  {
   "cell_type": "markdown",
   "metadata": {},
   "source": [
    "example text >>>\n",
    "\n",
    "### An investigation for determining the optimum length of chopsticks.\n",
    "[Link to Abstract and Paper](http://www.ncbi.nlm.nih.gov/pubmed/15676839)  \n",
    "*the abstract below was adapted from the link*\n",
    "\n",
    "Chopsticks are one of the most simple and popular hand tools ever invented by humans, but have not previously been investigated by [ergonomists](https://www.google.com/search?q=ergonomists). Two laboratory studies were conducted in this research, using a [randomised complete block design](http://dawg.utk.edu/glossary/whatis_rcbd.htm), to evaluate the effects of the length of the chopsticks on the food-serving performance of adults and children. Thirty-one male junior college students and 21 primary school pupils served as subjects for the experiment to test chopsticks lengths of 180, 210, 240, 270, 300, and 330 mm. The results showed that the food-pinching performance was significantly affected by the length of the chopsticks, and that chopsticks of about 240 and 180 mm long were optimal for adults and pupils, respectively. Based on these findings, the researchers suggested that families with children should provide both 240 and 180 mm long chopsticks. In addition, restaurants could provide 210 mm long chopsticks, considering the trade-offs between ergonomics and cost.\n",
    "\n",
    "### For the rest of this project, answer all questions based only on the part of the experiment analyzing the thirty-one adult male college students.\n",
    "Download the [data set for the adults](https://www.udacity.com/api/nodes/4576183932/supplemental_media/chopstick-effectivenesscsv/download), then answer the following questions based on the abstract and the data set.\n",
    "\n",
    "**If you double click on this cell**, you will see the text change so that all of the formatting is removed. This allows you to edit this block of text. This block of text is written using [Markdown](http://daringfireball.net/projects/markdown/syntax), which is a way to format text using headers, links, italics, and many other options. You will learn more about Markdown later in the Nanodegree Program. Hit shift + enter or shift + return to show the formatted text."
   ]
  },
  {
   "cell_type": "code",
   "execution_count": null,
   "metadata": {
    "collapsed": true
   },
   "outputs": [],
   "source": []
  }
 ],
 "metadata": {
  "kernelspec": {
   "display_name": "Python 2",
   "language": "python",
   "name": "python2"
  },
  "language_info": {
   "codemirror_mode": {
    "name": "ipython",
    "version": 2
   },
   "file_extension": ".py",
   "mimetype": "text/x-python",
   "name": "python",
   "nbconvert_exporter": "python",
   "pygments_lexer": "ipython2",
   "version": "2.7.13"
  }
 },
 "nbformat": 4,
 "nbformat_minor": 1
}

{
 "cells": [
  {
   "cell_type": "markdown",
   "metadata": {},
   "source": [
    "# P1: The stroop effect experiment\n",
    "\n",
    "The stroop effect is a phenomenon observed in the 1930s by J. Ridley Stroop. It is a a demonstration of interference in the reaction time of a task. He observed that naming the font color of a printed word is an easier and quicker task if word meaning and font color are not incongruent. If both are printed in red, the average time to say \"RED\" in response to the word 'RED' is greater than the time to say \"RED\" in response to the word 'BLUE'. (*from [wikipedia](https://en.wikipedia.org/wiki/Stroop_effect)*)\n",
    "\n",
    "\n",
    "![stroop effect](img/stroop_effect.gif)"
   ]
  },
  {
   "cell_type": "markdown",
   "metadata": {},
   "source": [
    "## The project\n",
    "\n",
    "This is the project 1 of the udacity's data analyst nanodegree. The objective is to apply descriptive and inferential statistics knowlegde to assess the stroop effect experiment on 24 subjects. Therefore, using inferential statistics concepts, such as t-tests and hypothesis testing, will be possible to comprove (or not) this effect on the given dataset."
   ]
  },
  {
   "cell_type": "markdown",
   "metadata": {},
   "source": [
    "## The experiment\n",
    "\n",
    "It was given to each participant of the experiment two lists, one congruent and one incongruent. The time used to read out loud each list was recorded and saved on the dataset. So we have the performance (in seconds) of the 24 participants on reading the two types of list."
   ]
  },
  {
   "cell_type": "markdown",
   "metadata": {},
   "source": [
    "## Questions"
   ]
  },
  {
   "cell_type": "markdown",
   "metadata": {},
   "source": [
    "#### 1. What is the independent variable in the experiment? What is the dependent variable?"
   ]
  },
  {
   "cell_type": "markdown",
   "metadata": {
    "collapsed": true
   },
   "source": [
    "* _The independent variable in this experiment is the test condition represented by the list. It was used two types of lists: congruents and incongruents. The congruents are lists with the word and color matching, like the word 'RED' with the ink 'RED', while the incongruents has mismatch. For example the word 'RED' with the ink 'BLUE'_\n",
    "* _The dependent variable is the time in seconds that the subject used to read the list._"
   ]
  },
  {
   "cell_type": "markdown",
   "metadata": {},
   "source": [
    "#### 2. What could be the null and alternative hypothesis for this experiment? What statistical test will you use?"
   ]
  },
  {
   "cell_type": "markdown",
   "metadata": {},
   "source": [
    "### Hypothesis testing\n",
    "\n",
    "   * *The **null hypothesis ($H_0$)** is that the type of list (congruent of incongruent) does not intefere the reaction time of the task. $\\mu_c = \\mu_i$ ($\\mu_c$ as the population mean of reaction time on reading the congruent list and $\\mu_i$ as the population mean of reaction time on reading the incongruent list)*\n",
    "   * *The **alternative hypothesis ($H_a$)** is that incongruent lists take more time to be read than the congruent. Therefore, it would be an one-tailed test since it would be just verified if $\\mu_c < \\mu_i$*\n",
    "   \n",
    "       * $H_0: \\mu_c = \\mu_i$\n",
    "       * $H_a: \\mu_c < \\mu_i$\n",
    "        "
   ]
  },
  {
   "cell_type": "markdown",
   "metadata": {
    "collapsed": true
   },
   "source": [
    "    \n",
    "### Statistical test\n",
    "   * *The condition of the experiment suggests that the best approach to evaluate the result is **dependent t-test for paired samples**, because it was given, for the same subject, two conditions (congruent and incongruent list) to compare the performance.*\n",
    "    \n",
    "_To run a t-test, some criterias must be considered, as verified by the following records._\n",
    "       \n",
    "* **[t-tests assumptions](http://www.statisticssolutions.com/manova-analysis-paired-sample-t-test/):**\n",
    "    1. The dependent variable must be continuous (interval/ratio)\n",
    "         * _this criteria is matched because the time (in seconds) is on a continuous scale_\n",
    "    2. The observations are independent of one another and the sample was randomly selected\n",
    "         * _its reasonable to assume that the subjects were randomly selected in this experiment and that they are independent from each other_\n",
    "    3. The dependent variable should be approximately normally distributed\n",
    "         * _from the graphs below its possible to see that the congruent lists time to read histogram result in a normal distribution. The incongruent lists time to read histogram result in a positively skewed bell-shaped distribution_\n",
    "            ![histogram](img/histogram.png)\n",
    "    4. The dependent variable should not contain any outliers\n",
    "         * _from the boxplot of the test conditions its possible to identify outliers on the incongruent dependent variable. This should be highlighted since outliers can bias the results and potentially lead to incorrect conclusions if not handled properly. However, removing data points can introduce other types of bias into the results, and potentially result in losing critical information (from [statistics solutions](http://www.statisticssolutions.com/manova-analysis-paired-sample-t-test/)). Therefore, it will be assumed that these outliers would not have a lot of influence on the t-test results_\n",
    "            ![boxplot](img/boxplot.png)"
   ]
  },
  {
   "cell_type": "markdown",
   "metadata": {},
   "source": [
    "#### 3. Report some descriptive statistics about the dataset. At least one measure of central tendency and one measure of variability"
   ]
  },
  {
   "cell_type": "markdown",
   "metadata": {},
   "source": [
    "### The dataset"
   ]
  },
  {
   "cell_type": "code",
   "execution_count": 1,
   "metadata": {
    "collapsed": true
   },
   "outputs": [],
   "source": [
    "import pandas as pd"
   ]
  },
  {
   "cell_type": "code",
   "execution_count": 2,
   "metadata": {},
   "outputs": [
    {
     "data": {
      "text/html": [
       "<div>\n",
       "<style>\n",
       "    .dataframe thead tr:only-child th {\n",
       "        text-align: right;\n",
       "    }\n",
       "\n",
       "    .dataframe thead th {\n",
       "        text-align: left;\n",
       "    }\n",
       "\n",
       "    .dataframe tbody tr th {\n",
       "        vertical-align: top;\n",
       "    }\n",
       "</style>\n",
       "<table border=\"1\" class=\"dataframe\">\n",
       "  <thead>\n",
       "    <tr style=\"text-align: right;\">\n",
       "      <th></th>\n",
       "      <th>Congruent</th>\n",
       "      <th>Incongruent</th>\n",
       "    </tr>\n",
       "  </thead>\n",
       "  <tbody>\n",
       "    <tr>\n",
       "      <th>0</th>\n",
       "      <td>12.079</td>\n",
       "      <td>19.278</td>\n",
       "    </tr>\n",
       "    <tr>\n",
       "      <th>1</th>\n",
       "      <td>16.791</td>\n",
       "      <td>18.741</td>\n",
       "    </tr>\n",
       "    <tr>\n",
       "      <th>2</th>\n",
       "      <td>9.564</td>\n",
       "      <td>21.214</td>\n",
       "    </tr>\n",
       "    <tr>\n",
       "      <th>3</th>\n",
       "      <td>8.630</td>\n",
       "      <td>15.687</td>\n",
       "    </tr>\n",
       "    <tr>\n",
       "      <th>4</th>\n",
       "      <td>14.669</td>\n",
       "      <td>22.803</td>\n",
       "    </tr>\n",
       "    <tr>\n",
       "      <th>5</th>\n",
       "      <td>12.238</td>\n",
       "      <td>20.878</td>\n",
       "    </tr>\n",
       "    <tr>\n",
       "      <th>6</th>\n",
       "      <td>14.692</td>\n",
       "      <td>24.572</td>\n",
       "    </tr>\n",
       "    <tr>\n",
       "      <th>7</th>\n",
       "      <td>8.987</td>\n",
       "      <td>17.394</td>\n",
       "    </tr>\n",
       "    <tr>\n",
       "      <th>8</th>\n",
       "      <td>9.401</td>\n",
       "      <td>20.762</td>\n",
       "    </tr>\n",
       "    <tr>\n",
       "      <th>9</th>\n",
       "      <td>14.480</td>\n",
       "      <td>26.282</td>\n",
       "    </tr>\n",
       "    <tr>\n",
       "      <th>10</th>\n",
       "      <td>22.328</td>\n",
       "      <td>24.524</td>\n",
       "    </tr>\n",
       "    <tr>\n",
       "      <th>11</th>\n",
       "      <td>15.298</td>\n",
       "      <td>18.644</td>\n",
       "    </tr>\n",
       "    <tr>\n",
       "      <th>12</th>\n",
       "      <td>15.073</td>\n",
       "      <td>17.510</td>\n",
       "    </tr>\n",
       "    <tr>\n",
       "      <th>13</th>\n",
       "      <td>16.929</td>\n",
       "      <td>20.330</td>\n",
       "    </tr>\n",
       "    <tr>\n",
       "      <th>14</th>\n",
       "      <td>18.200</td>\n",
       "      <td>35.255</td>\n",
       "    </tr>\n",
       "    <tr>\n",
       "      <th>15</th>\n",
       "      <td>12.130</td>\n",
       "      <td>22.158</td>\n",
       "    </tr>\n",
       "    <tr>\n",
       "      <th>16</th>\n",
       "      <td>18.495</td>\n",
       "      <td>25.139</td>\n",
       "    </tr>\n",
       "    <tr>\n",
       "      <th>17</th>\n",
       "      <td>10.639</td>\n",
       "      <td>20.429</td>\n",
       "    </tr>\n",
       "    <tr>\n",
       "      <th>18</th>\n",
       "      <td>11.344</td>\n",
       "      <td>17.425</td>\n",
       "    </tr>\n",
       "    <tr>\n",
       "      <th>19</th>\n",
       "      <td>12.369</td>\n",
       "      <td>34.288</td>\n",
       "    </tr>\n",
       "    <tr>\n",
       "      <th>20</th>\n",
       "      <td>12.944</td>\n",
       "      <td>23.894</td>\n",
       "    </tr>\n",
       "    <tr>\n",
       "      <th>21</th>\n",
       "      <td>14.233</td>\n",
       "      <td>17.960</td>\n",
       "    </tr>\n",
       "    <tr>\n",
       "      <th>22</th>\n",
       "      <td>19.710</td>\n",
       "      <td>22.058</td>\n",
       "    </tr>\n",
       "    <tr>\n",
       "      <th>23</th>\n",
       "      <td>16.004</td>\n",
       "      <td>21.157</td>\n",
       "    </tr>\n",
       "  </tbody>\n",
       "</table>\n",
       "</div>"
      ],
      "text/plain": [
       "    Congruent  Incongruent\n",
       "0      12.079       19.278\n",
       "1      16.791       18.741\n",
       "2       9.564       21.214\n",
       "3       8.630       15.687\n",
       "4      14.669       22.803\n",
       "5      12.238       20.878\n",
       "6      14.692       24.572\n",
       "7       8.987       17.394\n",
       "8       9.401       20.762\n",
       "9      14.480       26.282\n",
       "10     22.328       24.524\n",
       "11     15.298       18.644\n",
       "12     15.073       17.510\n",
       "13     16.929       20.330\n",
       "14     18.200       35.255\n",
       "15     12.130       22.158\n",
       "16     18.495       25.139\n",
       "17     10.639       20.429\n",
       "18     11.344       17.425\n",
       "19     12.369       34.288\n",
       "20     12.944       23.894\n",
       "21     14.233       17.960\n",
       "22     19.710       22.058\n",
       "23     16.004       21.157"
      ]
     },
     "execution_count": 2,
     "metadata": {},
     "output_type": "execute_result"
    }
   ],
   "source": [
    "df = pd.read_csv('../documents/stroop_effect.csv')\n",
    "df"
   ]
  },
  {
   "cell_type": "markdown",
   "metadata": {},
   "source": [
    "### Descriptive Statistics\n",
    "\n",
    "* **Congruent list**\n",
    "    * _Measures of central tendency_\n",
    "        * _mean:_ $\\bar{x_c} = 14.05$\n",
    "        * _median:_ $Md_c = 14.36$\n",
    "        * _mode: no value occur more than once, but from the histogram it's possible to identify that the most occurences are between 14.00 to 17.00_\n",
    "        <p>\n",
    "    * _Measures of variability_\n",
    "        * _variance:_ $S_c^2 = 12.67$\n",
    "        * _standard deviation:_ $S_c = 3.56$\n",
    "        \n",
    "        <p>\n",
    "* **Incongruent list**\n",
    "    * _Measures of central tendency_\n",
    "        * _mean:_ $\\bar{x_i} = 22.02$\n",
    "        * _median:_ $Md_i = 21.02$\n",
    "        * _mode: no value occur more than once, but from the histogram it's possible to identify that the most occurences are between 18.69 to 21.69_\n",
    "        <p>\n",
    "    * _Measures of variability_\n",
    "        * _variance:_ $S_i^2 = 23.01$\n",
    "        * _standard deviation:_ $S_i = 4.80$\n",
    "        <p>\n",
    "* **Difference between Incongruent and Congruent**\n",
    "    * _Measures of central tendency_\n",
    "        * _mean:_ $\\bar{x_d} = 7.96$\n",
    "        <p>\n",
    "    * _Measures of variability_\n",
    "        * _standard deviation:_ $S_d = 4.86$"
   ]
  },
  {
   "cell_type": "markdown",
   "metadata": {},
   "source": [
    "#### 4. Show one or two visualizations that shows the distribution of the data. Show your toughts about it"
   ]
  },
  {
   "cell_type": "markdown",
   "metadata": {
    "collapsed": true
   },
   "source": [
    "_line chart comparing the congruent and incongruent times_\n",
    "\n",
    "![line chart](img/line_chart.png)\n",
    "\n",
    "_From this line chart is possible to identify that all the subjects of the experiment has taken more time to read the incongruent list than the congruent. This can be interpreted as a good indicator for the alternative hypothesis_ ($H_a$) _but it is necessary to confirm if the longer time taken has statistical significance._"
   ]
  },
  {
   "cell_type": "markdown",
   "metadata": {},
   "source": [
    "#### 5. Present your statistic test results"
   ]
  },
  {
   "cell_type": "markdown",
   "metadata": {},
   "source": [
    "### Inputs for the t-test"
   ]
  },
  {
   "cell_type": "markdown",
   "metadata": {},
   "source": [
    "- $\\bar{x_d} = \\bar{x_i} - \\bar{x_c} = 22.016 - 14.051 = 7.965$\n",
    "    * $\\bar{x_i}$ _as the mean of the times to read the incongruent list_\n",
    "    * $\\bar{x_c}$ _as the mean of the times to read the congruent list_"
   ]
  },
  {
   "cell_type": "markdown",
   "metadata": {},
   "source": [
    "- $n = 24; df = 23$\n",
    "    * $n$ _representing the 24 subjects that participated of the experiment_"
   ]
  },
  {
   "cell_type": "markdown",
   "metadata": {
    "collapsed": true
   },
   "source": [
    "- $S_d = 4.865$\n",
    "    * $S_d$ _as the sample standard deviation of the difference of the times to read the incongruent and congruent lists_"
   ]
  },
  {
   "cell_type": "markdown",
   "metadata": {},
   "source": [
    "- $\\alpha = .05$ _and Confidence level = 95%_"
   ]
  },
  {
   "cell_type": "markdown",
   "metadata": {},
   "source": [
    "- [t-critical value](https://s3.amazonaws.com/udacity-hosted-downloads/t-table.jpg): $t_c(\\alpha = .05, df = 23) = 1.714$"
   ]
  },
  {
   "cell_type": "markdown",
   "metadata": {},
   "source": [
    "### Running t-test"
   ]
  },
  {
   "cell_type": "markdown",
   "metadata": {},
   "source": [
    "- **t-test**"
   ]
  },
  {
   "cell_type": "markdown",
   "metadata": {},
   "source": [
    "###  $t = \\frac{\\bar{x_d} - 0}{\\frac{S_d}{\\sqrt{n}}} = \\frac{{7.965} - 0}{\\frac{4.865}{\\sqrt{24}}} = 8.021$"
   ]
  },
  {
   "cell_type": "markdown",
   "metadata": {},
   "source": [
    "- **[p-value](http://www.graphpad.com/quickcalcs/pValue1/)**"
   ]
  },
  {
   "cell_type": "markdown",
   "metadata": {},
   "source": [
    "   ### $p < 0.0001$"
   ]
  },
  {
   "cell_type": "markdown",
   "metadata": {},
   "source": [
    "- **Cohen's d**"
   ]
  },
  {
   "cell_type": "markdown",
   "metadata": {},
   "source": [
    " ### $d = \\frac{\\bar{x} - \\mu}{S} = \\frac{7.965}{4.865} = 1.637 $"
   ]
  },
  {
   "cell_type": "markdown",
   "metadata": {},
   "source": [
    "- ** Coefficient of determination **"
   ]
  },
  {
   "cell_type": "markdown",
   "metadata": {},
   "source": [
    " ### $r^2 = \\frac{t^2}{t^2 + df} = \\frac{8.021^2}{8.021^2 + 23} = 0.737$"
   ]
  },
  {
   "cell_type": "markdown",
   "metadata": {},
   "source": [
    "- **Confidence Interval ($\\alpha = .05$)**"
   ]
  },
  {
   "cell_type": "markdown",
   "metadata": {},
   "source": [
    " ### $CI = (\\bar{x_d} - t_c * \\frac{S_d}{\\sqrt{n}}) , (\\bar{x_d} + t_c * \\frac{S_d}{\\sqrt{n}}) = (7.965 - 1.714 * \\frac{4.865}{\\sqrt{24}}) , (7.965 + 1.714 * \\frac{4.865}{\\sqrt{24}})$\n",
    " \n",
    " ### $CI = (6.263 , 9.667) $\n",
    " "
   ]
  },
  {
   "cell_type": "markdown",
   "metadata": {},
   "source": [
    "### Reporting results ([APA Style](http://my.ilstu.edu/~jhkahn/apastats.html))"
   ]
  },
  {
   "cell_type": "markdown",
   "metadata": {},
   "source": [
    "$t(23) = 8.02, p < 0.0001, one-tailed$\n",
    "\n",
    "$CI .95 = (6.26, 9.67)$\n",
    "\n",
    "$d = 1.64$\n",
    "\n",
    "$r^2 = .74$\n",
    "\n",
    "[calculations on the spreadsheet](P1.xlsx)"
   ]
  },
  {
   "cell_type": "markdown",
   "metadata": {},
   "source": [
    "### Conclusions"
   ]
  },
  {
   "cell_type": "markdown",
   "metadata": {},
   "source": [
    "_To reject_ $H_0$ _is necessary evidence that the difference between the time taken to read the congruent and incongruent lists are not due to chance (i.e. it's because the type of list). The probability that with t = 8.021 and df = 23 could be due to chance is smaller than 0.0001, much lower than our alpha level of 0.05. Therefore, we have statistical proof that the type of list influence the time taken to read, implying in rejecting the null hypothesis_ $H_0$.\n",
    "\n",
    "_Further on, 74% of the variation on the time used to read a list can be explained by the type of the list (congruent or incongruent)._\n",
    "\n",
    "_Visually, we can compare our t-critical value (for $\\alpha = .05$ and $df = 23$) and the t-statistic for the dependent t-test for paired samples on the graph below. It's possible to see how much more unlikely was to get the t-statistic by chance than our t-critical value for 95% of confidence._\n",
    "\n",
    "![t-test hypothesis](img/t_test_hypothesis.png)"
   ]
  },
  {
   "cell_type": "markdown",
   "metadata": {},
   "source": [
    "#### 6. What can explain this effect?\n",
    "\n",
    "_There are some theories to explain the stroop effect. The main idea is that the brain should process diferently colors and words and that it affects the time to read the list when the words and colors are unmatched. Variations on the unmatched lists are suggested on the Faculty of Washington stroop effect [page](https://faculty.washington.edu/chudler/words.html#seffect), such as rotating the words, using non-colors words, non-sense words, etc._\n",
    "\n",
    "_If we assume that the stroop effect shows the concurrence between attention on the brain, executing paralels actions showld degrade the performance, like drive and text on the phone, studying with the tv on, and so on._\n",
    "\n",
    "<p>\n",
    "\n",
    "_But... does it applies to us all?_\n",
    "\n",
    "![juggler](img/juggler.jpg)"
   ]
  },
  {
   "cell_type": "markdown",
   "metadata": {},
   "source": [
    "## References\n",
    "\n",
    "* [Stroop effect on Faculty of Washington](https://faculty.washington.edu/chudler/words.html#seffect)\n",
    "* [Stroop effect on wikipedia](https://en.wikipedia.org/wiki/Stroop_effect)\n",
    "* [t-tests assumptions on Investopedia](http://www.investopedia.com/ask/answers/073115/what-assumptions-are-made-when-conducting-ttest.asp)\n",
    "* [Paired sample t-tests on statistics solutions](http://www.statisticssolutions.com/manova-analysis-paired-sample-t-test/)\n",
    "* [t-table](https://s3.amazonaws.com/udacity-hosted-downloads/t-table.jpg)\n",
    "* [Calculating p-value on Graphpad](http://www.graphpad.com/quickcalcs/pValue1/)\n",
    "* [APA Style for statistics](http://my.ilstu.edu/~jhkahn/apastats.html)"
   ]
  }
 ],
 "metadata": {
  "kernelspec": {
   "display_name": "Python 2",
   "language": "python",
   "name": "python2"
  },
  "language_info": {
   "codemirror_mode": {
    "name": "ipython",
    "version": 2
   },
   "file_extension": ".py",
   "mimetype": "text/x-python",
   "name": "python",
   "nbconvert_exporter": "python",
   "pygments_lexer": "ipython2",
   "version": "2.7.13"
  }
 },
 "nbformat": 4,
 "nbformat_minor": 1
}

{
 "cells": [
  {
   "cell_type": "markdown",
   "metadata": {},
   "source": [
    "# P2: Investiganting a dataset\n",
    "\n",
    "*This is the project 2 of the Udacity's Data Analyst Nanodegree. It's build upon the introduction to data analysis course and has the main objectives to apply knwoledge on the pandas, numpy and matplotlib python libraries on the end-to-end process of data analysis. In this project we're going to go through all the five steps of the data analysis process, such as:*"
   ]
  },
  {
   "cell_type": "code",
   "execution_count": 1,
   "metadata": {},
   "outputs": [
    {
     "name": "stdout",
     "output_type": "stream",
     "text": [
      "Populating the interactive namespace from numpy and matplotlib\n"
     ]
    }
   ],
   "source": [
    "#importing libraries\n",
    "%pylab inline\n",
    "\n",
    "import pandas as pd\n",
    "import numpy as np\n",
    "import matplotlib.pyplot as plt\n",
    "import seaborn as sns"
   ]
  },
  {
   "cell_type": "code",
   "execution_count": 4,
   "metadata": {},
   "outputs": [
    {
     "data": {
      "text/plain": [
       "[]"
      ]
     },
     "execution_count": 4,
     "metadata": {},
     "output_type": "execute_result"
    },
    {
     "data": {
      "image/png": "[encoded data removed]",
      "text/plain": [
       "<matplotlib.figure.Figure at 0x11b669610>"
      ]
     },
     "metadata": {},
     "output_type": "display_data"
    }
   ],
   "source": [
    "#create data analysis process visualization\n",
    "\n",
    "process = pd.Series([1, 1, 1, 1, 1], index=['Question', 'Wrangle', 'Explore', 'Conclude', 'Comunicate'])\n",
    "x = range(5)\n",
    "plt.xticks(x, process.index)\n",
    "\n",
    "plt.plot(x, process.values, marker='o', markersize=20, markeredgecolor='black', markeredgewidth=1)\n",
    "plt.rc('xtick', labelsize=15) \n",
    "plt.title('Data Analysis Process', fontsize=15)\n",
    "\n",
    "#hide y axis label\n",
    "cur_axes = plt.gca()\n",
    "cur_axes.axes.get_yaxis().set_ticklabels([])"
   ]
  },
  {
   "cell_type": "markdown",
   "metadata": {},
   "source": [
    "# The Dataset\n",
    "*For this project, it will be used the dataset of titanic with demographic data and informations of 891 out 2224 passangers and crew on board of the ship. This dataset has information about sex, age, ticket class, if has relatives on board, the port of embarkation and if has survived or not the incident.*\n",
    "\n",
    "![titanic](imgs/titanic.jpg)\n"
   ]
  },
  {
   "cell_type": "markdown",
   "metadata": {},
   "source": [
    "# Questions"
   ]
  },
  {
   "cell_type": "code",
   "execution_count": 89,
   "metadata": {},
   "outputs": [
    {
     "data": {
      "text/plain": [
       "[]"
      ]
     },
     "execution_count": 89,
     "metadata": {},
     "output_type": "execute_result"
    },
    {
     "data": {
      "image/png": "[encoded data removed]",
      "text/plain": [
       "<matplotlib.figure.Figure at 0x11d8f6890>"
      ]
     },
     "metadata": {},
     "output_type": "display_data"
    }
   ],
   "source": [
    "#create data analysis process visualization. question phase\n",
    "\n",
    "\n",
    "process = pd.Series([1, 1, 1, 1, 1], index=['Question', 'Wrangle', 'Explore', 'Conclude', 'Comunicate'])\n",
    "x = range(5)\n",
    "plt.xticks(x, process.index)\n",
    "\n",
    "plt.plot(x, process.values, marker='o', markersize=20, markeredgecolor='black', markeredgewidth=1)\n",
    "plt.plot(x[0], process.values[0], markerfacecolor='w', marker='o', markersize=20, markeredgecolor='black', markeredgewidth=1)\n",
    "\n",
    "plt.rc('xtick', labelsize=15) \n",
    "plt.title('Data Analysis Process', fontsize=15)\n",
    "\n",
    "#hide y axis label\n",
    "cur_axes = plt.gca()\n",
    "cur_axes.axes.get_yaxis().set_ticklabels([])"
   ]
  },
  {
   "cell_type": "markdown",
   "metadata": {},
   "source": [
    "1. question\n",
    "2. question"
   ]
  },
  {
   "cell_type": "markdown",
   "metadata": {},
   "source": [
    "### Brainstorm Questions\n",
    "tem algum padrão de classe nos portos (depois posso pesquisar quais eram de bairros mais humildes e em quais lugares da cidade)?\n",
    "Procurar definir os intervalos de valores dos tickets com classes\n",
    "Ver a quantidade de valor ticket/classe que embarcou em cada porto (talvez um gráfico scatter com s=sobreviventes)\n",
    "Procurar relação de sobreviventes com grana, sexo e faixa etária\n",
    "\n",
    "FOCUS: embarked stations\n",
    "\n",
    "\n",
    "Experimente e sugira perguntas que promovam olhar para relacionamentos entre múltiplas variáveis. Você deve analisar pelo menos uma variável dependente e três variáveis independentes na sua investigação.\n",
    "ex pergunta titanic: Quais os fatores que fizeram as pessoas mais propensas a sobreviver?"
   ]
  },
  {
   "cell_type": "code",
   "execution_count": 68,
   "metadata": {},
   "outputs": [
    {
     "name": "stdout",
     "output_type": "stream",
     "text": [
      "891\n",
      "Index([u'PassengerId', u'Survived', u'Pclass', u'Name', u'Sex', u'Age',\n",
      "       u'SibSp', u'Parch', u'Ticket', u'Fare', u'Cabin', u'Embarked'],\n",
      "      dtype='object')\n",
      "342\n",
      "549\n",
      "687\n",
      "891\n",
      "77.10 % of missin of Cabin information\n"
     ]
    }
   ],
   "source": [
    "titanic_df = pd.read_csv('../documents/titanic_data.csv')\n",
    "print len(titanic_df)\n",
    "print titanic_df.columns\n",
    "#print titanic_df['Cabin']\n",
    "\n",
    "print len(titanic_df.loc[titanic_df['Survived']==1])\n",
    "print len(titanic_df.loc[titanic_df['Survived']==0])\n",
    "\n",
    "#print titanic_df.head()\n",
    "\n",
    "print len(titanic_df[titanic_df['Cabin'].isnull() == True].index)\n",
    "print len(titanic_df)\n",
    "print '{:0.2f} % of missin of Cabin information'.format((687.0/891.0)*100)"
   ]
  },
  {
   "cell_type": "code",
   "execution_count": 87,
   "metadata": {},
   "outputs": [
    {
     "name": "stdout",
     "output_type": "stream",
     "text": [
      "216\n",
      "184\n",
      "491\n",
      "891\n",
      " \n",
      "512.3292\n",
      "5.0\n",
      "84.1546875\n",
      "5\n",
      "211\n",
      " \n",
      "73.5\n",
      "nan\n",
      "6\n",
      "178\n",
      " \n",
      "69.55\n",
      "5.0\n",
      "4\n",
      "487\n"
     ]
    },
    {
     "data": {
      "text/plain": [
       "(array([  7.,  71.,  46.,  39.,  15.,  16.,   2.,   0.,   9.,   2.,   6.,\n",
       "          0.,   0.,   0.,   0.,   0.,   0.,   0.,   0.,   3.]),\n",
       " array([   0.     ,   25.61646,   51.23292,   76.84938,  102.46584,\n",
       "         128.0823 ,  153.69876,  179.31522,  204.93168,  230.54814,\n",
       "         256.1646 ,  281.78106,  307.39752,  333.01398,  358.63044,\n",
       "         384.2469 ,  409.86336,  435.47982,  461.09628,  486.71274,\n",
       "         512.3292 ]),\n",
       " <a list of 20 Patch objects>)"
      ]
     },
     "execution_count": 87,
     "metadata": {},
     "output_type": "execute_result"
    },
    {
     "data": {
      "image/png": "[encoded data removed]",
      "text/plain": [
       "<matplotlib.figure.Figure at 0x11dbd0d10>"
      ]
     },
     "metadata": {},
     "output_type": "display_data"
    }
   ],
   "source": [
    "print len(titanic_df.loc[titanic_df['Pclass'] == 1])\n",
    "print len(titanic_df.loc[titanic_df['Pclass'] == 2])\n",
    "print len(titanic_df.loc[titanic_df['Pclass'] == 3])\n",
    "\n",
    "print len(titanic_df.loc[titanic_df['Pclass'] == 1]) + len(titanic_df.loc[titanic_df['Pclass'] == 2]) + len(titanic_df.loc[titanic_df['Pclass'] == 3])\n",
    "\n",
    "print ' '\n",
    "print titanic_df.loc[titanic_df['Pclass'] == 1]['Fare'].max()\n",
    "print titanic_df.loc[titanic_df['Pclass'] == 1 & (titanic_df['Fare'] != 0)]['Fare'].min()\n",
    "print titanic_df.loc[titanic_df['Pclass'] == 1]['Fare'].mean()\n",
    "print len(titanic_df.loc[(titanic_df['Pclass'] == 1) & (titanic_df['Fare'] == 0)])\n",
    "print len(titanic_df.loc[(titanic_df['Pclass'] == 1) & (titanic_df['Fare'] != 0)])\n",
    "\n",
    "print ' '\n",
    "print titanic_df.loc[titanic_df['Pclass'] == 2]['Fare'].max()\n",
    "print titanic_df.loc[titanic_df['Pclass'] == 2 & (titanic_df['Fare'] != 0)]['Fare'].min()\n",
    "print len(titanic_df.loc[(titanic_df['Pclass'] == 2) & (titanic_df['Fare'] == 0)])\n",
    "print len(titanic_df.loc[(titanic_df['Pclass'] == 2) & (titanic_df['Fare'] != 0)])\n",
    "print  ' '\n",
    "print titanic_df.loc[titanic_df['Pclass'] == 3]['Fare'].max()\n",
    "print titanic_df.loc[titanic_df['Pclass'] == 3 & (titanic_df['Fare'] != 0)]['Fare'].min()\n",
    "print len(titanic_df.loc[(titanic_df['Pclass'] == 3) & (titanic_df['Fare'] == 0)])\n",
    "print len(titanic_df.loc[(titanic_df['Pclass'] == 3) & (titanic_df['Fare'] != 0)])\n",
    "\n",
    "plt.hist(titanic_df.loc[titanic_df['Pclass'] == 1]['Fare'], bins=20)"
   ]
  },
  {
   "cell_type": "markdown",
   "metadata": {},
   "source": [
    "**wrangling**\n",
    "\n",
    "* find out NaN registries\n",
    "* check if the base has other than specified values on categoricals (exs. idade maior que 100 e menor que 0, pclass diferente de 1,2,3 sexo diferente de h, m, survived diferente de 0,1,.... se tenho valores zerados de bilhetes)\n",
    "* histograma de idade\n",
    "* gráfico de linha de quantidade de passageiro por classe"
   ]
  },
  {
   "cell_type": "markdown",
   "metadata": {},
   "source": [
    "Uma nota especificando qual o dataset usado\n",
    "\n",
    "Uma definição de qual pergunta você fez\n",
    "\n",
    "Uma descrição do que você fez para investigar a pergunta\n",
    "\n",
    "Descrição de qualquer limpeza de dados feita\n",
    "\n",
    "Uma estatísticas resumo e gráficos comunicando o seu resultado final\n",
    "\n",
    "sugestões para o projeto se destacar\n",
    "* Utilize funcionalidades do NumPy ou Pandas que vão além do que foi coberto no curso.\n",
    "* Use testes estatísticos para tirar conclusões rigorosas quando apropriado."
   ]
  },
  {
   "cell_type": "code",
   "execution_count": 158,
   "metadata": {},
   "outputs": [
    {
     "data": {
      "text/plain": [
       "[]"
      ]
     },
     "execution_count": 158,
     "metadata": {},
     "output_type": "execute_result"
    },
    {
     "data": {
      "image/png": "[encoded data removed]",
      "text/plain": [
       "<matplotlib.figure.Figure at 0x123f1438>"
      ]
     },
     "metadata": {},
     "output_type": "display_data"
    }
   ],
   "source": [
    "process = pd.Series([1, 1, 1, 1, 1], index=['Question', 'Wrangle', 'Explore', 'Conclude', 'Comunicate'])\n",
    "x = range(5)\n",
    "plt.xticks(x, process.index)\n",
    "\n",
    "plt.plot(x, process.values, marker='o', markersize=20, markeredgecolor='black', markeredgewidth=1)\n",
    "#plt.plot(x[1], process.values[1], markerfacecolor='r', marker='o', markersize=20, markeredgecolor='black', markeredgewidth=1)\n",
    "\n",
    "plt.rc('xtick', labelsize=15) \n",
    "plt.title('Data Analysis Process', fontsize=15)\n",
    "\n",
    "#hide y axis label\n",
    "cur_axes = plt.gca()\n",
    "cur_axes.axes.get_yaxis().set_ticklabels([])"
   ]
  },
  {
   "cell_type": "markdown",
   "metadata": {},
   "source": [
    "references\n",
    "\n",
    "x axis with string https://stackoverflow.com/questions/7559242/matplotlib-strings-as-labels-on-x-axis\n",
    "\n",
    "hide axis https://codeyarns.com/2015/06/29/how-to-hide-axis-of-plot-in-matplotlib/\n",
    "\n",
    "titanic dataset https://www.kaggle.com/c/titanic/data"
   ]
  },
  {
   "cell_type": "code",
   "execution_count": null,
   "metadata": {
    "collapsed": true
   },
   "outputs": [],
   "source": []
  }
 ],
 "metadata": {
  "kernelspec": {
   "display_name": "Python 2",
   "language": "python",
   "name": "python2"
  },
  "language_info": {
   "codemirror_mode": {
    "name": "ipython",
    "version": 2
   },
   "file_extension": ".py",
   "mimetype": "text/x-python",
   "name": "python",
   "nbconvert_exporter": "python",
   "pygments_lexer": "ipython2",
   "version": "2.7.13"
  }
 },
 "nbformat": 4,
 "nbformat_minor": 2
}

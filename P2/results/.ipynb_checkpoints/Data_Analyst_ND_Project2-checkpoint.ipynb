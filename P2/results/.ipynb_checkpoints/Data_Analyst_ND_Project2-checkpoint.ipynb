{
 "cells": [
  {
   "cell_type": "markdown",
   "metadata": {},
   "source": [
    "# P2: Investiganting a dataset\n",
    "\n",
    "*This is the project 2 of the Udacity's Data Analyst Nanodegree. It's build upon the introduction to data analysis course and has the main objectives to apply knwoledge on the pandas, numpy and matplotlib python libraries on the end-to-end process of data analysis. In this project we're going to go through all the five steps of the data analysis process, such as:*"
   ]
  },
  {
   "cell_type": "code",
   "execution_count": 150,
   "metadata": {},
   "outputs": [
    {
     "name": "stdout",
     "output_type": "stream",
     "text": [
      "Populating the interactive namespace from numpy and matplotlib\n"
     ]
    },
    {
     "name": "stderr",
     "output_type": "stream",
     "text": [
      "C:\\Users\\70061076104\\AppData\\Local\\conda\\conda\\envs\\my_root\\lib\\site-packages\\IPython\\core\\magics\\pylab.py:161: UserWarning: pylab import has clobbered these variables: ['colors', 'axes', 'test']\n",
      "`%matplotlib` prevents importing * from pylab and numpy\n",
      "  \"\\n`%matplotlib` prevents importing * from pylab and numpy\"\n"
     ]
    }
   ],
   "source": [
    "%pylab inline\n",
    "\n",
    "import pandas as pd\n",
    "import numpy as np\n",
    "import matplotlib.pyplot as plt\n",
    "import seaborn as sns"
   ]
  },
  {
   "cell_type": "code",
   "execution_count": 160,
   "metadata": {},
   "outputs": [
    {
     "data": {
      "text/plain": [
       "[]"
      ]
     },
     "execution_count": 160,
     "metadata": {},
     "output_type": "execute_result"
    },
    {
     "data": {
      "image/png": "[encoded data removed]",
      "text/plain": [
       "<matplotlib.figure.Figure at 0x1258d240>"
      ]
     },
     "metadata": {},
     "output_type": "display_data"
    }
   ],
   "source": [
    "process = pd.Series([1, 1, 1, 1, 1], index=['Question', 'Wrangle', 'Explore', 'Conclude', 'Comunicate'])\n",
    "x = range(5)\n",
    "plt.xticks(x, process.index)\n",
    "\n",
    "plt.plot(x, process.values, marker='o', markersize=20, markeredgecolor='black', markeredgewidth=1)\n",
    "plt.rc('xtick', labelsize=15) \n",
    "plt.title('Data Analysis Process', fontsize=15)\n",
    "\n",
    "#hide y axis label\n",
    "cur_axes = plt.gca()\n",
    "cur_axes.axes.get_yaxis().set_ticklabels([])"
   ]
  },
  {
   "cell_type": "markdown",
   "metadata": {},
   "source": [
    "# The Dataset\n",
    "*For this project, it will be used the dataset of titanic xxx*"
   ]
  },
  {
   "cell_type": "markdown",
   "metadata": {},
   "source": [
    "Uma nota especificando qual o dataset usado\n",
    "\n",
    "Uma definição de qual pergunta você fez\n",
    "\n",
    "Uma descrição do que você fez para investigar a pergunta\n",
    "\n",
    "Descrição de qualquer limpeza de dados feita\n",
    "\n",
    "Uma estatísticas resumo e gráficos comunicando o seu resultado final\n",
    "\n",
    "referências"
   ]
  },
  {
   "cell_type": "code",
   "execution_count": 158,
   "metadata": {},
   "outputs": [
    {
     "data": {
      "text/plain": [
       "[]"
      ]
     },
     "execution_count": 158,
     "metadata": {},
     "output_type": "execute_result"
    },
    {
     "data": {
      "image/png": "[encoded data removed]",
      "text/plain": [
       "<matplotlib.figure.Figure at 0x123f1438>"
      ]
     },
     "metadata": {},
     "output_type": "display_data"
    }
   ],
   "source": [
    "process = pd.Series([1, 1, 1, 1, 1], index=['Question', 'Wrangle', 'Explore', 'Conclude', 'Comunicate'])\n",
    "x = range(5)\n",
    "plt.xticks(x, process.index)\n",
    "\n",
    "plt.plot(x, process.values, marker='o', markersize=20, markeredgecolor='black', markeredgewidth=1)\n",
    "#plt.plot(x[1], process.values[1], markerfacecolor='r', marker='o', markersize=20, markeredgecolor='black', markeredgewidth=1)\n",
    "\n",
    "plt.rc('xtick', labelsize=15) \n",
    "plt.title('Data Analysis Process', fontsize=15)\n",
    "\n",
    "#hide y axis label\n",
    "cur_axes = plt.gca()\n",
    "cur_axes.axes.get_yaxis().set_ticklabels([])"
   ]
  },
  {
   "cell_type": "markdown",
   "metadata": {},
   "source": [
    "references\n",
    "\n",
    "x axis with string https://stackoverflow.com/questions/7559242/matplotlib-strings-as-labels-on-x-axis\n",
    "hide axis https://codeyarns.com/2015/06/29/how-to-hide-axis-of-plot-in-matplotlib/"
   ]
  }
 ],
 "metadata": {
  "kernelspec": {
   "display_name": "Python 2",
   "language": "python",
   "name": "python2"
  },
  "language_info": {
   "codemirror_mode": {
    "name": "ipython",
    "version": 2
   },
   "file_extension": ".py",
   "mimetype": "text/x-python",
   "name": "python",
   "nbconvert_exporter": "python",
   "pygments_lexer": "ipython2",
   "version": "2.7.13"
  }
 },
 "nbformat": 4,
 "nbformat_minor": 2
}
